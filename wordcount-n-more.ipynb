{
 "cells": [
  {
   "cell_type": "markdown",
   "metadata": {},
   "source": [
    "# Juggling with Data - with APACHE SPARK\n",
    "\n",
    "<br /><p>\n",
    "This Notebook captures the essence of <em><strong>INTEROPERABILITY</strong></em> with different types of workloads using Hadoop style  map-reduce to SQL to Dataframe to visualization - <strong>all. under. one. umbrella.</strong>\n",
    "<p>This IPython Notebook (jupyter) is configured with SPARK 1.3 and started with <i>--profile=pyspark</i> option </p>\n",
    "</p>\n",
    "<br />\n",
    "Hope this helps,<p />\n",
    "<b>Arindam Paul</b> <p />\n",
    "<b> Twitter </b>: @parindam\n",
    "<b>Linkedin</b>: https://in.linkedin.com/pub/arindam-paul/1b/4b8/a26"
   ]
  },
  {
   "cell_type": "code",
   "execution_count": 1,
   "metadata": {
    "collapsed": false
   },
   "outputs": [],
   "source": [
    "from IPython.display import YouTubeVideo, Image"
   ]
  },
  {
   "cell_type": "markdown",
   "metadata": {},
   "source": [
    "<br /><p>\n",
    "Following image shows the vision of <em><b>SPARK compute framework</b></em> and examples in this notebook does not cover streaming, graph and MLLIB. Hope to cover this in my next notebook.\n",
    "SparkR is alpha and slated to be released in June as part of Spark-1.4.\n",
    "</p>\n",
    "<br />"
   ]
  },
  {
   "cell_type": "code",
   "execution_count": 2,
   "metadata": {
    "collapsed": false
   },
   "outputs": [
    {
     "data": {
      "text/html": [
       "<img src=\"http://image.slidesharecdn.com/2015-02-17dataframes-150218163844-conversion-gate01/95/introducing-dataframes-in-spark-for-large-scale-data-science-37-638.jpg?cb=1425946701\"/>"
      ],
      "text/plain": [
       "<IPython.core.display.Image object>"
      ]
     },
     "execution_count": 2,
     "metadata": {},
     "output_type": "execute_result"
    }
   ],
   "source": [
    "Image(url='http://image.slidesharecdn.com/2015-02-17dataframes-150218163844-conversion-gate01/95/introducing-dataframes-in-spark-for-large-scale-data-science-37-638.jpg?cb=1425946701')"
   ]
  },
  {
   "cell_type": "code",
   "execution_count": 3,
   "metadata": {
    "collapsed": false
   },
   "outputs": [
    {
     "data": {
      "text/html": [
       "<img src=\"http://blog.optimalbi.com/wp-content/uploads/2014/06/big-data-funny-meme.jpg\"/>"
      ],
      "text/plain": [
       "<IPython.core.display.Image object>"
      ]
     },
     "execution_count": 3,
     "metadata": {},
     "output_type": "execute_result"
    }
   ],
   "source": [
    "Image(url='http://blog.optimalbi.com/wp-content/uploads/2014/06/big-data-funny-meme.jpg')"
   ]
  },
  {
   "cell_type": "code",
   "execution_count": 4,
   "metadata": {
    "collapsed": false
   },
   "outputs": [
    {
     "data": {
      "text/html": [
       "\n",
       "        <iframe\n",
       "            width=\"400\"\n",
       "            height=\"300\"\n",
       "            src=\"https://www.youtube.com/embed/lhkzgjOKeLs\"\n",
       "            frameborder=\"0\"\n",
       "            allowfullscreen\n",
       "        ></iframe>\n",
       "        "
      ],
      "text/plain": [
       "<IPython.lib.display.YouTubeVideo at 0x105bcfd10>"
      ]
     },
     "execution_count": 4,
     "metadata": {},
     "output_type": "execute_result"
    }
   ],
   "source": [
    "YouTubeVideo('lhkzgjOKeLs')"
   ]
  },
  {
   "cell_type": "markdown",
   "metadata": {},
   "source": [
    "#1. get SparkContext"
   ]
  },
  {
   "cell_type": "code",
   "execution_count": 5,
   "metadata": {
    "collapsed": false
   },
   "outputs": [
    {
     "name": "stdout",
     "output_type": "stream",
     "text": [
      "/Users/arindampaul/Documents/SPARK/spark1.3/spark-1.3.0\n"
     ]
    }
   ],
   "source": [
    "import os\n",
    "from pyspark import SparkContext\n",
    "\n",
    "# print SPARK HOME\n",
    "spark_home = os.environ.get('SPARK_HOME', None)\n",
    "print (spark_home)\n",
    "\n",
    "# Get an handle of SparkContext\n",
    "sc = SparkContext(appName=\"More than Word Count\")\n"
   ]
  },
  {
   "cell_type": "markdown",
   "metadata": {},
   "source": [
    "#2. lets get some data and some utility"
   ]
  },
  {
   "cell_type": "code",
   "execution_count": 6,
   "metadata": {
    "collapsed": false
   },
   "outputs": [
    {
     "name": "stdout",
     "output_type": "stream",
     "text": [
      "[u'austen-emma.txt', u'austen-persuasion.txt', u'austen-sense.txt', u'bible-kjv.txt', u'blake-poems.txt', u'bryant-stories.txt', u'burgess-busterbrown.txt', u'carroll-alice.txt', u'chesterton-ball.txt', u'chesterton-brown.txt', u'chesterton-thursday.txt', u'edgeworth-parents.txt', u'melville-moby_dick.txt', u'milton-paradise.txt', u'shakespeare-caesar.txt', u'shakespeare-hamlet.txt', u'shakespeare-macbeth.txt', u'whitman-leaves.txt']\n"
     ]
    },
    {
     "data": {
      "text/plain": [
       "18963"
      ]
     },
     "execution_count": 6,
     "metadata": {},
     "output_type": "execute_result"
    }
   ],
   "source": [
    "from nltk.corpus import stopwords\n",
    "stopwords = stopwords.words('english')\n",
    "\n",
    "from nltk.corpus import gutenberg\n",
    "print gutenberg.fileids()\n",
    "\n",
    "#stopwords = [\"a\",\"able\",\"about\",\"across\",\"after\",\"all\",\"almost\",\"also\",\"am\",\"among\",\"an\",\"and\",\"any\",\"are\",\"as\",\"at\",\"be\",\"because\",\"been\",\"but\",\"by\",\"can\",\"cannot\",\"could\",\"dear\",\"did\",\"do\",\"does\",\"either\",\"else\",\"ever\",\"every\",\"for\",\"from\",\"get\",\"got\",\"had\",\"has\",\"have\",\"he\",\"her\",\"hers\",\"him\",\"his\",\"how\",\"however\",\"i\",\"if\",\"in\",\"into\",\"is\",\"it\",\"its\",\"just\",\"least\",\"let\",\"like\",\"likely\",\"may\",\"me\",\"might\",\"most\",\"must\",\"my\",\"neither\",\"no\",\"nor\",\"not\",\"of\",\"off\",\"often\",\"on\",\"only\",\"or\",\"other\",\"our\",\"own\",\"rather\",\"said\",\"say\",\"says\",\"she\",\"should\",\"since\",\"so\",\"some\",\"than\",\"that\",\"the\",\"their\",\"them\",\"then\",\"there\",\"these\",\"they\",\"this\",\"tis\",\"to\",\"too\",\"twas\",\"us\",\"wants\",\"was\",\"we\",\"were\",\"what\",\"when\",\"where\",\"which\",\"while\",\"who\",\"whom\",\"why\",\"will\",\"with\",\"would\",\"yet\",\"you\",\"your\"]\n",
    "\n",
    "stopwords = set(stopwords)\n",
    "\n",
    "txt = gutenberg.words('burgess-busterbrown.txt')\n",
    "\n",
    "len(txt)"
   ]
  },
  {
   "cell_type": "markdown",
   "metadata": {},
   "source": [
    "# Note: \n",
    "When you have a big file, load it as \n",
    "<p><em>text_file = sc.textFile(\"/Users/arindampaul/Downloads/gitanjali.txt\")</em></p>\n",
    "<p>and not the way shown above, <em>(as len(txt))</em>, it will throw you OOM</p>\n",
    "<h2>3. Welcome to BIG DATA</h2>"
   ]
  },
  {
   "cell_type": "code",
   "execution_count": 7,
   "metadata": {
    "collapsed": false
   },
   "outputs": [
    {
     "name": "stdout",
     "output_type": "stream",
     "text": [
      "('Total Counts:', [('totCounts', 18963)])\n"
     ]
    }
   ],
   "source": [
    "# Bigger files to be counted as follows\n",
    "text_file = sc.parallelize(txt)\n",
    "\n",
    "totalCounts = text_file.flatMap(lambda x: x.split(' ')) \\\n",
    "                  .map(lambda x: (\"totCounts\", 1)) \\\n",
    "                  .reduceByKey(lambda x, y: x+y).collect()\n",
    "        \n",
    "print (\"Total Counts:\", totalCounts)#.pprint())"
   ]
  },
  {
   "cell_type": "markdown",
   "metadata": {},
   "source": [
    "#4. Word frequency - basic"
   ]
  },
  {
   "cell_type": "code",
   "execution_count": 8,
   "metadata": {
    "collapsed": false
   },
   "outputs": [
    {
     "data": {
      "text/plain": [
       "[(u'replied', 5),\n",
       " (u'neighbors', 6),\n",
       " (u'willingly', 1),\n",
       " (u'whether', 2),\n",
       " (u'being', 9),\n",
       " (u'sound', 5),\n",
       " (u'dear', 3),\n",
       " (u'Stickytoes', 3),\n",
       " (u'everybody', 20),\n",
       " (u'discovered', 2),\n",
       " (u'catch', 15),\n",
       " (u'Tit', 1),\n",
       " (u'tiptoed', 1),\n",
       " (u'happily', 1),\n",
       " (u'believed', 1),\n",
       " (u'lonesome', 2),\n",
       " (u'saucy', 1),\n",
       " (u'preventing', 1),\n",
       " (u'helping', 1),\n",
       " (u'thinking', 3)]"
      ]
     },
     "execution_count": 8,
     "metadata": {},
     "output_type": "execute_result"
    }
   ],
   "source": [
    "\n",
    "\n",
    "counts = text_file.flatMap(lambda x: x.split(' ')) \\\n",
    "                  .map(lambda x: (x, 1)) \\\n",
    "                  .reduceByKey(lambda x,y: x+y)\n",
    "\n",
    "counts.take(20)"
   ]
  },
  {
   "cell_type": "markdown",
   "metadata": {},
   "source": [
    "#5. Word frequency - improved"
   ]
  },
  {
   "cell_type": "code",
   "execution_count": 9,
   "metadata": {
    "collapsed": false
   },
   "outputs": [
    {
     "data": {
      "text/plain": [
       "[(u'replied', 5),\n",
       " (u'neighbors', 6),\n",
       " (u'willingly', 1),\n",
       " (u'scooped', 2),\n",
       " (u'dear', 3),\n",
       " (u'everybody', 22),\n",
       " (u'discovered', 2),\n",
       " (u'catch', 15),\n",
       " (u'helped', 4),\n",
       " (u'go', 24),\n",
       " (u'happily', 1),\n",
       " (u'believed', 1),\n",
       " (u'lonesome', 2),\n",
       " (u'saucy', 1),\n",
       " (u'preventing', 1),\n",
       " (u'helping', 1),\n",
       " (u'thinking', 3),\n",
       " (u'somewhere', 2),\n",
       " (u'remembered', 2),\n",
       " (u'better', 10)]"
      ]
     },
     "execution_count": 9,
     "metadata": {},
     "output_type": "execute_result"
    }
   ],
   "source": [
    "\n",
    "\n",
    "counts = text_file.flatMap(lambda x: x.split(' ')) \\\n",
    "                  .filter(lambda x: len(x) > 0) \\\n",
    "                  .filter(lambda x: x.lower() not in stopwords) \\\n",
    "                  .map(lambda x: (x.lower(), 1)) \\\n",
    "                  .reduceByKey(lambda x,y: x+y)\n",
    "counts.take(20)"
   ]
  },
  {
   "cell_type": "markdown",
   "metadata": {},
   "source": [
    "#6. Top 50 Words"
   ]
  },
  {
   "cell_type": "code",
   "execution_count": 10,
   "metadata": {
    "collapsed": false
   },
   "outputs": [
    {
     "data": {
      "text/plain": [
       "[(u'.', 823),\n",
       " (u',', 822),\n",
       " (u\"'\", 401),\n",
       " (u'buster', 229),\n",
       " (u'little', 207),\n",
       " (u'\"', 166),\n",
       " (u'bear', 152),\n",
       " (u'joe', 112),\n",
       " (u'brown', 102),\n",
       " (u'one', 102),\n",
       " (u'farmer', 100),\n",
       " (u'boy', 95),\n",
       " (u'green', 87),\n",
       " (u'see', 74),\n",
       " (u'-', 74),\n",
       " (u'!', 69),\n",
       " (u'forest', 66),\n",
       " (u'didn', 57),\n",
       " (u'could', 56),\n",
       " (u',\"', 56),\n",
       " (u'!\"', 52),\n",
       " (u'blacky', 52),\n",
       " (u'otter', 51),\n",
       " (u'great', 50),\n",
       " (u'said', 50),\n",
       " (u'big', 49),\n",
       " (u'know', 48),\n",
       " (u'time', 48),\n",
       " (u'pool', 47),\n",
       " (u'would', 46),\n",
       " (u'fish', 44),\n",
       " (u'berries', 44),\n",
       " (u'way', 44),\n",
       " (u'sammy', 42),\n",
       " (u'old', 42),\n",
       " (u'.\"', 41),\n",
       " (u'away', 40),\n",
       " (u'afraid', 40),\n",
       " (u'pail', 40),\n",
       " (u'looked', 39),\n",
       " (u'billy', 39),\n",
       " (u'trout', 37),\n",
       " (u'right', 36),\n",
       " (u'tree', 36),\n",
       " (u'laughing', 34),\n",
       " (u'get', 34),\n",
       " (u'brook', 32),\n",
       " (u'thing', 31),\n",
       " (u'couldn', 29),\n",
       " (u'chatterer', 29)]"
      ]
     },
     "execution_count": 10,
     "metadata": {},
     "output_type": "execute_result"
    }
   ],
   "source": [
    "sortedOp = counts.map(lambda (x,y): (y,x)).sortByKey(0).map(lambda (i,j): (j, i))\n",
    "sortedOp.take(50)"
   ]
  },
  {
   "cell_type": "markdown",
   "metadata": {},
   "source": [
    "#7. SQL - get SQLContext"
   ]
  },
  {
   "cell_type": "code",
   "execution_count": 11,
   "metadata": {
    "collapsed": false
   },
   "outputs": [],
   "source": [
    "from pyspark.sql import SQLContext, Row\n",
    "sqlContext = SQLContext(sc)"
   ]
  },
  {
   "cell_type": "markdown",
   "metadata": {},
   "source": [
    "#8. Convert each line to a Row\n",
    "The keys of this list define the column names of the table, and the types are inferred by looking at the first row."
   ]
  },
  {
   "cell_type": "code",
   "execution_count": 12,
   "metadata": {
    "collapsed": false
   },
   "outputs": [
    {
     "data": {
      "text/plain": [
       "Row(counts=823, word=u'.')"
      ]
     },
     "execution_count": 12,
     "metadata": {},
     "output_type": "execute_result"
    }
   ],
   "source": [
    "wordRDD = sortedOp.map(lambda w: Row(word=w[0], counts=int(w[1])))\n",
    "\n",
    "wordRDD.first()\n"
   ]
  },
  {
   "cell_type": "markdown",
   "metadata": {},
   "source": [
    "what is wordRDD ?"
   ]
  },
  {
   "cell_type": "code",
   "execution_count": 13,
   "metadata": {
    "collapsed": false
   },
   "outputs": [
    {
     "data": {
      "text/plain": [
       "PythonRDD[30] at RDD at PythonRDD.scala:42"
      ]
     },
     "execution_count": 13,
     "metadata": {},
     "output_type": "execute_result"
    }
   ],
   "source": [
    "wordRDD"
   ]
  },
  {
   "cell_type": "markdown",
   "metadata": {},
   "source": [
    "#9. Infer the schema, and register the DataFrame as a table."
   ]
  },
  {
   "cell_type": "markdown",
   "metadata": {},
   "source": [
    "<em>schemaWord is a DataFrame</em>"
   ]
  },
  {
   "cell_type": "code",
   "execution_count": 14,
   "metadata": {
    "collapsed": false
   },
   "outputs": [],
   "source": [
    "\n",
    "schemaWord = sqlContext.inferSchema(wordRDD)"
   ]
  },
  {
   "cell_type": "markdown",
   "metadata": {},
   "source": [
    "#10. Search in the Dataframe"
   ]
  },
  {
   "cell_type": "code",
   "execution_count": 15,
   "metadata": {
    "collapsed": false
   },
   "outputs": [
    {
     "name": "stdout",
     "output_type": "stream",
     "text": [
      "counts word \n",
      "13     water\n"
     ]
    }
   ],
   "source": [
    "schemaWord.filter(schemaWord.word==\"water\").show()"
   ]
  },
  {
   "cell_type": "markdown",
   "metadata": {},
   "source": [
    "#11. Dataframe simplifies things"
   ]
  },
  {
   "cell_type": "code",
   "execution_count": 16,
   "metadata": {
    "collapsed": false
   },
   "outputs": [
    {
     "data": {
      "text/html": [
       "<img src=\"http://image.slidesharecdn.com/2015-02-17dataframes-150218163844-conversion-gate01/95/introducing-dataframes-in-spark-for-large-scale-data-science-8-638.jpg?cb=1425946701\"/>"
      ],
      "text/plain": [
       "<IPython.core.display.Image object>"
      ]
     },
     "execution_count": 16,
     "metadata": {},
     "output_type": "execute_result"
    }
   ],
   "source": [
    "Image(url='http://image.slidesharecdn.com/2015-02-17dataframes-150218163844-conversion-gate01/95/introducing-dataframes-in-spark-for-large-scale-data-science-8-638.jpg?cb=1425946701')"
   ]
  },
  {
   "cell_type": "markdown",
   "metadata": {},
   "source": [
    "#12. And improves performance"
   ]
  },
  {
   "cell_type": "code",
   "execution_count": 17,
   "metadata": {
    "collapsed": false
   },
   "outputs": [
    {
     "data": {
      "text/html": [
       "<img src=\"http://image.slidesharecdn.com/2015-02-17dataframes-150218163844-conversion-gate01/95/introducing-dataframes-in-spark-for-large-scale-data-science-10-638.jpg?cb=1425946701\"/>"
      ],
      "text/plain": [
       "<IPython.core.display.Image object>"
      ]
     },
     "execution_count": 17,
     "metadata": {},
     "output_type": "execute_result"
    }
   ],
   "source": [
    "Image(url='http://image.slidesharecdn.com/2015-02-17dataframes-150218163844-conversion-gate01/95/introducing-dataframes-in-spark-for-large-scale-data-science-10-638.jpg?cb=1425946701')"
   ]
  },
  {
   "cell_type": "markdown",
   "metadata": {},
   "source": [
    "#13. Use SQL"
   ]
  },
  {
   "cell_type": "code",
   "execution_count": 18,
   "metadata": {
    "collapsed": false
   },
   "outputs": [
    {
     "name": "stdout",
     "output_type": "stream",
     "text": [
      "word     counts\n",
      "would    46    \n",
      "way      44    \n",
      "went     23    \n",
      "wasn     16    \n",
      "water    13    \n",
      "want     12    \n",
      "wouldn   11    \n",
      "wanted   9     \n",
      "without  9     \n",
      "watching 9     \n",
      "word     8     \n",
      "worse    8     \n",
      "watch    7     \n",
      "well     7     \n",
      "wonder   7     \n",
      "wrong    6     \n",
      "whole    6     \n",
      "waited   6     \n",
      "world    5     \n",
      "watched  5     \n"
     ]
    }
   ],
   "source": [
    "schemaWord.registerTempTable(\"wordcount\")\n",
    "\n",
    "searchName = sqlContext.sql(\"SELECT word,counts FROM wordcount WHERE word like 'w%'\")\n",
    "\n",
    "searchName.show()"
   ]
  },
  {
   "cell_type": "markdown",
   "metadata": {},
   "source": [
    "#14. Visualize the Data"
   ]
  },
  {
   "cell_type": "code",
   "execution_count": 19,
   "metadata": {
    "collapsed": false
   },
   "outputs": [
    {
     "data": {
      "text/plain": [
       "<matplotlib.axes._subplots.AxesSubplot at 0x10d86f710>"
      ]
     },
     "execution_count": 19,
     "metadata": {},
     "output_type": "execute_result"
    },
    {
     "data": {
      "image/png": "[encoded data removed]",
      "text/plain": [
       "<matplotlib.figure.Figure at 0x10d86fe50>"
      ]
     },
     "metadata": {},
     "output_type": "display_data"
    }
   ],
   "source": [
    "%matplotlib inline\n",
    "\n",
    "searchName.toPandas()[:10].plot(kind=\"bar\", x=\"word\", y=\"counts\")"
   ]
  },
  {
   "cell_type": "markdown",
   "metadata": {},
   "source": [
    "#15. Save it when done"
   ]
  },
  {
   "cell_type": "code",
   "execution_count": 20,
   "metadata": {
    "collapsed": false
   },
   "outputs": [],
   "source": [
    "#searchName.saveAsParquetFile(\"w-words-burgess-busterbrown.parquet\")\n"
   ]
  },
  {
   "cell_type": "code",
   "execution_count": 21,
   "metadata": {
    "collapsed": false
   },
   "outputs": [
    {
     "data": {
      "text/html": [
       "<img src=\"http://image.slidesharecdn.com/2015-02-17dataframes-150218163844-conversion-gate01/95/introducing-dataframes-in-spark-for-large-scale-data-science-33-638.jpg?cb=1425946701\"/>"
      ],
      "text/plain": [
       "<IPython.core.display.Image object>"
      ]
     },
     "execution_count": 21,
     "metadata": {},
     "output_type": "execute_result"
    }
   ],
   "source": [
    "Image(url='http://image.slidesharecdn.com/2015-02-17dataframes-150218163844-conversion-gate01/95/introducing-dataframes-in-spark-for-large-scale-data-science-33-638.jpg?cb=1425946701')"
   ]
  },
  {
   "cell_type": "markdown",
   "metadata": {},
   "source": [
    "#16. take another text file"
   ]
  },
  {
   "cell_type": "code",
   "execution_count": 22,
   "metadata": {
    "collapsed": false
   },
   "outputs": [
    {
     "name": "stdout",
     "output_type": "stream",
     "text": [
      "counts word \n",
      "190    water\n"
     ]
    }
   ],
   "source": [
    "moby_text_file = sc.parallelize(gutenberg.words('melville-moby_dick.txt'))\n",
    "\n",
    "moby_words = moby_text_file.flatMap(lambda x: x.split(' ')) \\\n",
    "                  .filter(lambda x: len(x) > 0) \\\n",
    "                  .filter(lambda x: x.lower() not in stopwords) \\\n",
    "                  .map(lambda x: (x.lower(), 1)) \\\n",
    "                  .reduceByKey(lambda x,y: x+y) \\\n",
    "                  .map(lambda (x,y): (y,x)).sortByKey(0).map(lambda (i,j): (j, i)) \\\n",
    "                  .map(lambda w: Row(word=w[0], counts=int(w[1])))\n",
    "                    \n",
    "words_moby_DF = sqlContext.inferSchema(moby_words)               \n",
    "words_moby_DF.filter(words_moby_DF.word==\"water\").show()"
   ]
  },
  {
   "cell_type": "markdown",
   "metadata": {},
   "source": [
    "#17. Similar operation as above"
   ]
  },
  {
   "cell_type": "code",
   "execution_count": 23,
   "metadata": {
    "collapsed": false
   },
   "outputs": [
    {
     "data": {
      "text/plain": [
       "[Row(counts=1226, word=u'whale'),\n",
       " Row(counts=432, word=u'would'),\n",
       " Row(counts=281, word=u'white'),\n",
       " Row(counts=271, word=u'way'),\n",
       " Row(counts=268, word=u'whales'),\n",
       " Row(counts=230, word=u'well'),\n",
       " Row(counts=190, word=u'water'),\n",
       " Row(counts=176, word=u'world'),\n",
       " Row(counts=156, word=u'without'),\n",
       " Row(counts=137, word=u'whole')]"
      ]
     },
     "execution_count": 23,
     "metadata": {},
     "output_type": "execute_result"
    }
   ],
   "source": [
    "\n",
    "w_words_moby_DF = words_moby_DF.filter((words_moby_DF.word).startswith('w'))\n",
    "\n",
    "#w_words_moby_DF.saveAsParquetFile(\"w-words-moby-dick.parquet\")\n",
    "\n",
    "#joined_table = w_words_moby_DF.join(searchName, searchName.word == w_words_moby_DF.word)\n",
    "#joined_table.printSchema()\n",
    "\n",
    "w_words_moby_DF.take(10)"
   ]
  },
  {
   "cell_type": "markdown",
   "metadata": {},
   "source": [
    "#18. Finally ... <em>JOIN</em>"
   ]
  },
  {
   "cell_type": "code",
   "execution_count": 24,
   "metadata": {
    "collapsed": false
   },
   "outputs": [
    {
     "name": "stdout",
     "output_type": "stream",
     "text": [
      "root\n",
      " |-- counts: long (nullable = true)\n",
      " |-- word: string (nullable = true)\n",
      " |-- word: string (nullable = true)\n",
      " |-- counts: long (nullable = true)\n",
      "\n"
     ]
    }
   ],
   "source": [
    "parquet_load_moby = sqlContext.parquetFile(\"w-words-moby-dick.parquet\")\n",
    "joined_table = parquet_load_moby.join(searchName, searchName.word == parquet_load_moby.word)\n",
    "        \n",
    "joined_table.printSchema()"
   ]
  },
  {
   "cell_type": "markdown",
   "metadata": {},
   "source": [
    "#19. Name the columns appropriately"
   ]
  },
  {
   "cell_type": "code",
   "execution_count": 25,
   "metadata": {
    "collapsed": false
   },
   "outputs": [
    {
     "data": {
      "text/plain": [
       "PythonRDD[90] at RDD at PythonRDD.scala:42"
      ]
     },
     "execution_count": 25,
     "metadata": {},
     "output_type": "execute_result"
    }
   ],
   "source": [
    "joined_schema = joined_table.map(lambda w: Row(moby=w[1], moby_count=int(w[0]), burgess=w[2], burgess_count=int(w[3])))\n",
    "joined_schema"
   ]
  },
  {
   "cell_type": "code",
   "execution_count": 26,
   "metadata": {
    "collapsed": false
   },
   "outputs": [
    {
     "data": {
      "text/plain": [
       "69"
      ]
     },
     "execution_count": 26,
     "metadata": {},
     "output_type": "execute_result"
    }
   ],
   "source": [
    "joined_schema.count()"
   ]
  },
  {
   "cell_type": "markdown",
   "metadata": {},
   "source": [
    "#20. display time"
   ]
  },
  {
   "cell_type": "code",
   "execution_count": 27,
   "metadata": {
    "collapsed": false,
    "scrolled": false
   },
   "outputs": [
    {
     "data": {
      "text/plain": [
       "[Row(burgess=u'would', burgess_count=46, moby=u'would', moby_count=432),\n",
       " Row(burgess=u'way', burgess_count=44, moby=u'way', moby_count=271),\n",
       " Row(burgess=u'went', burgess_count=23, moby=u'went', moby_count=97),\n",
       " Row(burgess=u'wasn', burgess_count=16, moby=u'wasn', moby_count=5),\n",
       " Row(burgess=u'water', burgess_count=13, moby=u'water', moby_count=190),\n",
       " Row(burgess=u'want', burgess_count=12, moby=u'want', moby_count=33),\n",
       " Row(burgess=u'wouldn', burgess_count=11, moby=u'wouldn', moby_count=8),\n",
       " Row(burgess=u'wanted', burgess_count=9, moby=u'wanted', moby_count=9),\n",
       " Row(burgess=u'without', burgess_count=9, moby=u'without', moby_count=156),\n",
       " Row(burgess=u'watching', burgess_count=9, moby=u'watching', moby_count=16),\n",
       " Row(burgess=u'word', burgess_count=8, moby=u'word', moby_count=76),\n",
       " Row(burgess=u'worse', burgess_count=8, moby=u'worse', moby_count=21),\n",
       " Row(burgess=u'watch', burgess_count=7, moby=u'watch', moby_count=58),\n",
       " Row(burgess=u'well', burgess_count=7, moby=u'well', moby_count=230),\n",
       " Row(burgess=u'wonder', burgess_count=7, moby=u'wonder', moby_count=36),\n",
       " Row(burgess=u'wrong', burgess_count=6, moby=u'wrong', moby_count=8),\n",
       " Row(burgess=u'whole', burgess_count=6, moby=u'whole', moby_count=137),\n",
       " Row(burgess=u'waited', burgess_count=6, moby=u'waited', moby_count=1),\n",
       " Row(burgess=u'world', burgess_count=5, moby=u'world', moby_count=176),\n",
       " Row(burgess=u'watched', burgess_count=5, moby=u'watched', moby_count=5),\n",
       " Row(burgess=u'whistle', burgess_count=5, moby=u'whistle', moby_count=1),\n",
       " Row(burgess=u'wish', burgess_count=5, moby=u'wish', moby_count=14),\n",
       " Row(burgess=u'woods', burgess_count=5, moby=u'woods', moby_count=10),\n",
       " Row(burgess=u'work', burgess_count=5, moby=u'work', moby_count=65),\n",
       " Row(burgess=u'worst', burgess_count=5, moby=u'worst', moby_count=2),\n",
       " Row(burgess=u'waiting', burgess_count=4, moby=u'waiting', moby_count=3),\n",
       " Row(burgess=u'walked', burgess_count=4, moby=u'walked', moby_count=6),\n",
       " Row(burgess=u'wait', burgess_count=4, moby=u'wait', moby_count=7),\n",
       " Row(burgess=u'whose', burgess_count=3, moby=u'whose', moby_count=87),\n",
       " Row(burgess=u'wide', burgess_count=3, moby=u'wide', moby_count=50),\n",
       " Row(burgess=u'woof', burgess_count=3, moby=u'woof', moby_count=7),\n",
       " Row(burgess=u'wise', burgess_count=3, moby=u'wise', moby_count=26),\n",
       " Row(burgess=u'wings', burgess_count=3, moby=u'wings', moby_count=7),\n",
       " Row(burgess=u'wants', burgess_count=2, moby=u'wants', moby_count=9),\n",
       " Row(burgess=u'whether', burgess_count=2, moby=u'whether', moby_count=91),\n",
       " Row(burgess=u'wandered', burgess_count=2, moby=u'wandered', moby_count=1),\n",
       " Row(burgess=u'walking', burgess_count=2, moby=u'walking', moby_count=9),\n",
       " Row(burgess=u'worked', burgess_count=2, moby=u'worked', moby_count=8),\n",
       " Row(burgess=u'won', burgess_count=2, moby=u'won', moby_count=32),\n",
       " Row(burgess=u'within', burgess_count=2, moby=u'within', moby_count=79),\n",
       " Row(burgess=u'wood', burgess_count=2, moby=u'wood', moby_count=36),\n",
       " Row(burgess=u'waste', burgess_count=2, moby=u'waste', moby_count=3),\n",
       " Row(burgess=u'wherever', burgess_count=2, moby=u'wherever', moby_count=6),\n",
       " Row(burgess=u'weasel', burgess_count=2, moby=u'weasel', moby_count=1),\n",
       " Row(burgess=u'whistled', burgess_count=2, moby=u'whistled', moby_count=1),\n",
       " Row(burgess=u'whistling', burgess_count=2, moby=u'whistling', moby_count=2),\n",
       " Row(burgess=u'walk', burgess_count=2, moby=u'walk', moby_count=8),\n",
       " Row(burgess=u'whoever', burgess_count=2, moby=u'whoever', moby_count=5),\n",
       " Row(burgess=u'willingly', burgess_count=1, moby=u'willingly', moby_count=4),\n",
       " Row(burgess=u'wrapped', burgess_count=1, moby=u'wrapped', moby_count=9),\n",
       " Row(burgess=u'whispered', burgess_count=1, moby=u'whispered', moby_count=11),\n",
       " Row(burgess=u'ways', burgess_count=1, moby=u'ways', moby_count=20),\n",
       " Row(burgess=u'whenever', burgess_count=1, moby=u'whenever', moby_count=15),\n",
       " Row(burgess=u'write', burgess_count=1, moby=u'write', moby_count=5),\n",
       " Row(burgess=u'wink', burgess_count=1, moby=u'wink', moby_count=1),\n",
       " Row(burgess=u'welcome', burgess_count=1, moby=u'welcome', moby_count=6),\n",
       " Row(burgess=u'woodpecker', burgess_count=1, moby=u'woodpecker', moby_count=1),\n",
       " Row(burgess=u'warm', burgess_count=1, moby=u'warm', moby_count=24),\n",
       " Row(burgess=u'wrinkling', burgess_count=1, moby=u'wrinkling', moby_count=1),\n",
       " Row(burgess=u'washed', burgess_count=1, moby=u'washed', moby_count=4),\n",
       " Row(burgess=u'watered', burgess_count=1, moby=u'watered', moby_count=1),\n",
       " Row(burgess=u'worth', burgess_count=1, moby=u'worth', moby_count=14),\n",
       " Row(burgess=u'wondering', burgess_count=1, moby=u'wondering', moby_count=4),\n",
       " Row(burgess=u'working', burgess_count=1, moby=u'working', moby_count=15),\n",
       " Row(burgess=u'w', burgess_count=1, moby=u'w', moby_count=1),\n",
       " Row(burgess=u'wondered', burgess_count=1, moby=u'wondered', moby_count=2),\n",
       " Row(burgess=u'whatever', burgess_count=1, moby=u'whatever', moby_count=46),\n",
       " Row(burgess=u'waking', burgess_count=1, moby=u'waking', moby_count=6),\n",
       " Row(burgess=u'wisdom', burgess_count=1, moby=u'wisdom', moby_count=5)]"
      ]
     },
     "execution_count": 27,
     "metadata": {},
     "output_type": "execute_result"
    }
   ],
   "source": [
    "joined_schema.take(69)"
   ]
  },
  {
   "cell_type": "code",
   "execution_count": 28,
   "metadata": {
    "collapsed": false
   },
   "outputs": [
    {
     "data": {
      "text/html": [
       "<img src=\"http://image.slidesharecdn.com/2015-02-17dataframes-150218163844-conversion-gate01/95/introducing-dataframes-in-spark-for-large-scale-data-science-30-638.jpg?cb=1425946701\"/>"
      ],
      "text/plain": [
       "<IPython.core.display.Image object>"
      ]
     },
     "execution_count": 28,
     "metadata": {},
     "output_type": "execute_result"
    }
   ],
   "source": [
    "Image(url='http://image.slidesharecdn.com/2015-02-17dataframes-150218163844-conversion-gate01/95/introducing-dataframes-in-spark-for-large-scale-data-science-30-638.jpg?cb=1425946701')"
   ]
  },
  {
   "cell_type": "code",
   "execution_count": null,
   "metadata": {
    "collapsed": true
   },
   "outputs": [],
   "source": []
  }
 ],
 "metadata": {
  "kernelspec": {
   "display_name": "Python 2",
   "language": "python",
   "name": "python2"
  },
  "language_info": {
   "codemirror_mode": {
    "name": "ipython",
    "version": 2
   },
   "file_extension": ".py",
   "mimetype": "text/x-python",
   "name": "python",
   "nbconvert_exporter": "python",
   "pygments_lexer": "ipython2",
   "version": "2.7.9"
  }
 },
 "nbformat": 4,
 "nbformat_minor": 0
}
