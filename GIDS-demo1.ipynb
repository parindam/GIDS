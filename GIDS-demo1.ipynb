{
 "metadata": {
  "name": ""
 },
 "nbformat": 3,
 "nbformat_minor": 0,
 "worksheets": [
  {
   "cells": [
    {
     "cell_type": "code",
     "collapsed": false,
     "input": [
      "\"\"\"\n",
      "\n",
      "Demo1\n",
      "\n",
      "\"\"\"\n",
      "\n",
      "import pandas as pd\n",
      "import numpy as np\n",
      "from time import time\n",
      "\n",
      "DIR_PATH = \"C://Sapient//PYTHON//scikit-learn-master//examples//kaggle//competition//loan defaulter//data//\"\n",
      "TRAIN_FILE = DIR_PATH + \"train.csv\"\n",
      "#TEST_FILE = DIR_PATH + \"test_v2.csv\"\n",
      "\n",
      "\n",
      "X = pd.read_csv(TRAIN_FILE, sep=',', warn_bad_lines=True, error_bad_lines=True)\n",
      "\n",
      "X = X.drop(['f11', 'f12', 'f465', 'f466', 'f473', 'f474', 'f602', 'f603', 'f605'], axis=1)\n"
     ],
     "language": "python",
     "metadata": {},
     "outputs": [],
     "prompt_number": 86
    },
    {
     "cell_type": "code",
     "collapsed": false,
     "input": [
      "print X.shape"
     ],
     "language": "python",
     "metadata": {},
     "outputs": [
      {
       "output_type": "stream",
       "stream": "stdout",
       "text": [
        "(105471, 771)\n"
       ]
      }
     ],
     "prompt_number": 87
    },
    {
     "cell_type": "code",
     "collapsed": false,
     "input": [
      "X = X.iloc[0:5000,]\n",
      "\n",
      "print X.shape"
     ],
     "language": "python",
     "metadata": {},
     "outputs": [
      {
       "output_type": "stream",
       "stream": "stdout",
       "text": [
        "(5000, 771)\n"
       ]
      }
     ],
     "prompt_number": 88
    },
    {
     "cell_type": "code",
     "collapsed": false,
     "input": [
      "#X.to_csv(DIR_PATH+'sample_5000.csv')"
     ],
     "language": "python",
     "metadata": {},
     "outputs": [
      {
       "output_type": "stream",
       "stream": "stderr",
       "text": [
        "C:\\Python27\\lib\\site-packages\\pandas\\core\\config.py:570: DeprecationWarning: height has been deprecated.\n",
        "\n",
        "  warnings.warn(d.msg, DeprecationWarning)\n"
       ]
      }
     ],
     "prompt_number": 34
    }
   ],
   "metadata": {}
  }
 ]
}