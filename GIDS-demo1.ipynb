{
 "metadata": {
  "name": ""
 },
 "nbformat": 3,
 "nbformat_minor": 0,
 "worksheets": [
  {
   "cells": [
    {
     "cell_type": "code",
     "collapsed": false,
     "input": [
      "\"\"\"\n",
      "\n",
      "Demo1\n",
      "\n",
      "\"\"\"\n",
      "\n",
      "import pandas as pd\n",
      "import numpy as np\n",
      "import cPickle\n",
      "from sklearn import preprocessing, grid_search\n",
      "from sklearn.svm import LinearSVC, SVC\n",
      "from sklearn.feature_selection import SelectKBest, chi2\n",
      "from sklearn.ensemble import GradientBoostingClassifier, GradientBoostingRegressor\n",
      "import  scipy.stats as stats\n",
      "import sklearn.linear_model as lm\n",
      "from time import time\n",
      "\n",
      "DIR_PATH = \"C://Sapient//PYTHON//scikit-learn-master//examples//kaggle//competition//loan defaulter//data//\"\n",
      "TRAIN_FILE = DIR_PATH + \"train.csv\"\n",
      "TEST_FILE = DIR_PATH + \"test_v2.csv\"\n",
      "PREDICT_FILE = DIR_PATH + \"predict5.1.csv\"\n",
      "\n",
      "\n",
      "X = pd.read_csv(TRAIN_FILE, sep=',', warn_bad_lines=True, error_bad_lines=True)\n",
      "\n",
      "X = X.drop(['f11', 'f12', 'f465', 'f466', 'f473', 'f474', 'f602', 'f603', 'f605'], axis=1)\n"
     ],
     "language": "python",
     "metadata": {},
     "outputs": [],
     "prompt_number": 25
    },
    {
     "cell_type": "code",
     "collapsed": false,
     "input": [
      "print X.shape"
     ],
     "language": "python",
     "metadata": {},
     "outputs": [
      {
       "output_type": "stream",
       "stream": "stdout",
       "text": [
        "(105471, 771)\n"
       ]
      }
     ],
     "prompt_number": 26
    },
    {
     "cell_type": "code",
     "collapsed": false,
     "input": [
      "X = X.iloc[0:5000,]\n",
      "\n",
      "print X.shape"
     ],
     "language": "python",
     "metadata": {},
     "outputs": [
      {
       "ename": "AttributeError",
       "evalue": "'numpy.ndarray' object has no attribute 'iloc'",
       "output_type": "pyerr",
       "traceback": [
        "\u001b[1;31m---------------------------------------------------------------------------\u001b[0m\n\u001b[1;31mAttributeError\u001b[0m                            Traceback (most recent call last)",
        "\u001b[1;32m<ipython-input-84-d8a820e984f9>\u001b[0m in \u001b[0;36m<module>\u001b[1;34m()\u001b[0m\n\u001b[1;32m----> 1\u001b[1;33m \u001b[0mX\u001b[0m \u001b[1;33m=\u001b[0m \u001b[0mX\u001b[0m\u001b[1;33m.\u001b[0m\u001b[0miloc\u001b[0m\u001b[1;33m[\u001b[0m\u001b[1;36m0\u001b[0m\u001b[1;33m:\u001b[0m\u001b[1;36m5000\u001b[0m\u001b[1;33m,\u001b[0m\u001b[1;33m]\u001b[0m\u001b[1;33m\u001b[0m\u001b[0m\n\u001b[0m\u001b[0;32m      2\u001b[0m \u001b[1;33m\u001b[0m\u001b[0m\n\u001b[0;32m      3\u001b[0m \u001b[1;32mprint\u001b[0m \u001b[0mX\u001b[0m\u001b[1;33m.\u001b[0m\u001b[0mshape\u001b[0m\u001b[1;33m\u001b[0m\u001b[0m\n\u001b[0;32m      4\u001b[0m \u001b[0mX\u001b[0m\u001b[1;33m.\u001b[0m\u001b[0mcolumns\u001b[0m\u001b[1;33m\u001b[0m\u001b[0m\n",
        "\u001b[1;31mAttributeError\u001b[0m: 'numpy.ndarray' object has no attribute 'iloc'"
       ]
      }
     ],
     "prompt_number": 84
    },
    {
     "cell_type": "code",
     "collapsed": false,
     "input": [
      "X.to_csv(DIR_PATH+'sample_5000.csv')"
     ],
     "language": "python",
     "metadata": {},
     "outputs": [
      {
       "output_type": "stream",
       "stream": "stderr",
       "text": [
        "C:\\Python27\\lib\\site-packages\\pandas\\core\\config.py:570: DeprecationWarning: height has been deprecated.\n",
        "\n",
        "  warnings.warn(d.msg, DeprecationWarning)\n"
       ]
      }
     ],
     "prompt_number": 34
    },
    {
     "cell_type": "code",
     "collapsed": false,
     "input": [
      "X[:, -1][X[:, -1].nonzero()]"
     ],
     "language": "python",
     "metadata": {},
     "outputs": [
      {
       "metadata": {},
       "output_type": "pyout",
       "prompt_number": 83,
       "text": [
        "array([   1.,   16.,   19.,    4.,   11.,    1.,   11.,   21.,    4.,\n",
        "          4.,    2.,    2.,    9.,    5.,    2.,    3.,    4.,    5.,\n",
        "          7.,   13.,    2.,    1.,    3.,    6.,    1.,   25.,    3.,\n",
        "          7.,    7.,    3.,   21.,   44.,    1.,    7.,    2.,   17.,\n",
        "          2.,    5.,    2.,    5.,    3.,    4.,   17.,    4.,  100.,\n",
        "          4.,    1.,   16.,   10.,    2.,    6.,    4.,    5.,    3.,\n",
        "          6.,    6.,   16.,    8.,    2.,   19.,    1.,    2.,    6.,\n",
        "          7.,    1.,   65.,    1.,    4.,    5.,   11.,    5.,   10.,\n",
        "          2.,   15.,    4.,   15.,   12.,    5.,    4.,    2.,   29.,\n",
        "          4.,    3.,    7.,    3.,    2.,    3.,    1.,    3.,   22.,\n",
        "          6.,    7.,    1.,    4.,    5.,    3.,    2.,    2.,   20.,\n",
        "          3.,    3.,    1.,    8.,    1.,    3.,   11.,    5.,   10.,\n",
        "          5.,    2.,   22.,    5.,    5.,    4.,    1.,    2.,    8.,\n",
        "          9.,    9.,    3.,    7.,    3.,    1.,    4.,    3.,    3.,\n",
        "          2.,    2.,    4.,    3.,    2.,   12.,    8.,    2.,    6.,\n",
        "          5.,   11.,    4.,    4.,    3.,    2.,    5.,    4.,    6.,\n",
        "          4.,    3.,    4.,    5.,    1.,   12.,   12.,   18.,   19.,\n",
        "         17.,    7.,   41.,    3.,    6.,   55.,    1.,    3.,    4.,\n",
        "          7.,    4.,   22.,   28.,   23.,    2.,   14.,   11.,   10.,\n",
        "         12.,   20.,    8.,   38.,    3.,    2.,   12.,    3.,    5.,\n",
        "          2.,    2.,    2.,    3.,   42.,    2.,   33.,   11.,    6.,\n",
        "          5.,    6.,   21.,    1.,   27.,   24.,   14.,    5.,    4.,\n",
        "         39.,   17.,    5.,    3.,    5.,    9.,   24.,    1.,    1.,\n",
        "          3.,   26.,    2.,    7.,    3.,   18.,    9.,    3.,    3.,\n",
        "         14.,    2.,    4.,    8.,   10.,    6.,   11.,   23.,    2.,\n",
        "          3.,    4.,    7.,  100.,    4.,   23.,   12.,    2.,    7.,\n",
        "          3.,    5.,    5.,   12.,    2.,    5.,    2.,    6.,    1.,\n",
        "          2.,    3.,    4.,   22.,    4.,   16.,    1.,    2.,    2.,\n",
        "          4.,    7.,    1.,    7.,    3.,    5.,   31.,    5.,    1.,\n",
        "          7.,   13.,    4.,    5.,    4.,    1.,    3.,    2.,    4.,\n",
        "          4.,    1.,    3.,    1.,    3.,    9.,    2.,   11.,    9.,\n",
        "          2.,    1.,    8.,    3.,    6.,    4.,    4.,    7.,   11.,\n",
        "          5.,    1.,   10.,    1.,    2.,    6.,   35.,   18.,   64.,\n",
        "          2.,    6.,   10.,   11.,    9.,    2.,    2.,    3.,   29.,\n",
        "         29.,   21.,   15.,   14.,   14.,    2.,    4.,   32.,    2.,\n",
        "         16.,    3.,    4.,    4.,    6.,    6.,    3.,    2.,    5.,\n",
        "         15.,    2.,    8.,    5.,   23.,   12.,    4.,    7.,    1.,\n",
        "          5.,    1.,   12.,    4.,   16.,    8.,    4.,    1.,    7.,\n",
        "         54.,    1.,   10.,    1.,   14.,   27.,   14.,   12.,   19.,\n",
        "         24.,    2.,    4.,    4.,    6.,   41.,    7.,    3.,   28.,\n",
        "          8.,    5.,    1.,    4.,    1.,    2.,    4.,    5.,    4.,\n",
        "          4.,    4.,    4.,   23.,    2.,    2.,    3.,   11.,    2.,\n",
        "         12.,    6.,   13.,    4.,   12.,   27.,   13.,    6.,    7.,\n",
        "          3.,   12.,    1.,   12.,    4.,   37.,    5.,   12.,    7.,\n",
        "         20.,    3.,    3.,    1.,    7.,   61.,    2.,    4.,    1.,\n",
        "          4.,    5.,    3.,    5.,    9.,    2.,    5.,    5.,    5.,\n",
        "          7.,    4.,   18.,    5.,    3.,    7.,   17.,    1.,   15.,\n",
        "          4.,   11.,   24.,    1.,    1.,    2.,    4.,    7.,    7.])"
       ]
      }
     ],
     "prompt_number": 83
    },
    {
     "cell_type": "code",
     "collapsed": false,
     "input": [
      "X[:, -1][X[:, -1].nonzero()].size"
     ],
     "language": "python",
     "metadata": {},
     "outputs": []
    },
    {
     "cell_type": "code",
     "collapsed": false,
     "input": [
      "X = np.asarray(X.values, dtype = float)"
     ],
     "language": "python",
     "metadata": {},
     "outputs": [],
     "prompt_number": 35
    },
    {
     "cell_type": "code",
     "collapsed": false,
     "input": [],
     "language": "python",
     "metadata": {},
     "outputs": []
    },
    {
     "cell_type": "code",
     "collapsed": false,
     "input": [
      "col_median = stats.nanmedian(X,axis=0)\n",
      "#print \"col_median\", col_median\n",
      "inds = np.where(np.isnan(X))\n",
      "X[inds]=np.take(col_median,inds[1])\n",
      "\n",
      "labels = np.asarray(X[:,-1], dtype = float)\n",
      "data = np.asarray(X[:,1:-2], dtype = float)\n",
      "\n",
      "data = preprocessing.scale(data)\n",
      "\n",
      "print data.shape"
     ],
     "language": "python",
     "metadata": {},
     "outputs": []
    },
    {
     "cell_type": "code",
     "collapsed": false,
     "input": [
      "from sklearn.cross_validation import train_test_split\n"
     ],
     "language": "python",
     "metadata": {},
     "outputs": []
    }
   ],
   "metadata": {}
  }
 ]
}